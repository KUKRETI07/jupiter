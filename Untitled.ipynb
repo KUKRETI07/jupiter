{
 "cells": [
  {
   "cell_type": "markdown",
   "id": "5305a942",
   "metadata": {},
   "source": [
    "##  prime\n",
    "- hgfghv"
   ]
  },
  {
   "cell_type": "code",
   "execution_count": 1,
   "id": "5614bf2b",
   "metadata": {},
   "outputs": [],
   "source": [
    "a1=open(\"wwe\",\"w\")\n",
    "a1.write(\"python\")\n",
    "a1.write(\"de\")\n",
    "a1.write(\"rfewr rf\")\n",
    "a1.write(\"erf\")\n",
    "a1.close()"
   ]
  },
  {
   "cell_type": "code",
   "execution_count": 2,
   "id": "b0384cd8",
   "metadata": {},
   "outputs": [
    {
     "name": "stdout",
     "output_type": "stream",
     "text": [
      "pythonderfewr rferf\n"
     ]
    }
   ],
   "source": [
    "b1=open(\"wwe\")\n",
    "print(b1.read())"
   ]
  },
  {
   "cell_type": "code",
   "execution_count": 5,
   "id": "52e41888",
   "metadata": {},
   "outputs": [
    {
     "name": "stdout",
     "output_type": "stream",
     "text": [
      "hey shubham is here\n",
      "\n"
     ]
    }
   ],
   "source": [
    "b1=open(\"sk.txt\")\n",
    "print(b1.read())"
   ]
  },
  {
   "cell_type": "code",
   "execution_count": 7,
   "id": "21e34086",
   "metadata": {},
   "outputs": [],
   "source": [
    "b1=open(\"sk.txt\")"
   ]
  },
  {
   "cell_type": "code",
   "execution_count": null,
   "id": "21213870",
   "metadata": {},
   "outputs": [],
   "source": [
    "a1=open(\"wwe\",\"w\")\n",
    "a1.write(\"python\")\n",
    "a1.write(\"de\")\n",
    "a1.write(\"rfewr rf\")\n",
    "a1.write(\"erf\")\n",
    "a1.close()"
   ]
  },
  {
   "cell_type": "code",
   "execution_count": 29,
   "id": "3a5a7c0f",
   "metadata": {},
   "outputs": [],
   "source": [
    "s=open(\"shubham\",\"w\")\n",
    "s.write(\"bsbdh\\n\")\n",
    "s.write(\"sinds\\nrajnish\")\n",
    "s.close()"
   ]
  },
  {
   "cell_type": "code",
   "execution_count": 30,
   "id": "ba000632",
   "metadata": {},
   "outputs": [],
   "source": [
    "d=open(\"shubham\")\n",
    "#print(d.read())"
   ]
  },
  {
   "cell_type": "code",
   "execution_count": 41,
   "id": "ff621cee",
   "metadata": {},
   "outputs": [
    {
     "data": {
      "text/plain": [
       "0"
      ]
     },
     "execution_count": 41,
     "metadata": {},
     "output_type": "execute_result"
    }
   ],
   "source": [
    "d.seek(0)"
   ]
  },
  {
   "cell_type": "code",
   "execution_count": 45,
   "id": "00728229",
   "metadata": {},
   "outputs": [
    {
     "data": {
      "text/plain": [
       "list"
      ]
     },
     "execution_count": 45,
     "metadata": {},
     "output_type": "execute_result"
    }
   ],
   "source": [
    "n = d.readlines()\n",
    "type(n)"
   ]
  },
  {
   "cell_type": "code",
   "execution_count": 43,
   "id": "f6823b46",
   "metadata": {},
   "outputs": [
    {
     "name": "stdout",
     "output_type": "stream",
     "text": [
      "bsbdh\n",
      "\n",
      "sinds\n",
      "\n",
      "rajnish\n"
     ]
    }
   ],
   "source": [
    "for i in n:\n",
    "     = n.title\n",
    "    "
   ]
  },
  {
   "cell_type": "code",
   "execution_count": 51,
   "id": "5ec3b610",
   "metadata": {},
   "outputs": [],
   "source": [
    "class person:\n",
    "    def __init__(a,name,age):\n",
    "        a.n=name\n",
    "        a.n2=age\n",
    "    def evenno(a):\n",
    "        for i in range(a.n2):\n",
    "            if i%2==0:\n",
    "                print(\"even\",i)\n",
    "                "
   ]
  },
  {
   "cell_type": "code",
   "execution_count": 52,
   "id": "aeea856f",
   "metadata": {},
   "outputs": [],
   "source": [
    "o=person(\"name\",20)"
   ]
  },
  {
   "cell_type": "code",
   "execution_count": 54,
   "id": "4a36f159",
   "metadata": {},
   "outputs": [
    {
     "data": {
      "text/plain": [
       "20"
      ]
     },
     "execution_count": 54,
     "metadata": {},
     "output_type": "execute_result"
    }
   ],
   "source": [
    "o.n2"
   ]
  },
  {
   "cell_type": "code",
   "execution_count": 55,
   "id": "5523f455",
   "metadata": {},
   "outputs": [
    {
     "name": "stdout",
     "output_type": "stream",
     "text": [
      "odd 0\n",
      "odd 2\n",
      "odd 4\n",
      "odd 6\n",
      "odd 8\n",
      "odd 10\n",
      "odd 12\n",
      "odd 14\n",
      "odd 16\n",
      "odd 18\n"
     ]
    }
   ],
   "source": [
    "o.evenno()"
   ]
  },
  {
   "cell_type": "code",
   "execution_count": 66,
   "id": "adf501c1",
   "metadata": {},
   "outputs": [],
   "source": [
    "class person2(person):\n",
    "    def __init__(a,dob,*x):\n",
    "        super(person2,a).__init__(*x)\n",
    "        a.dob=dob\n",
    "    def test2(a):\n",
    "        print(\"i am child\")"
   ]
  },
  {
   "cell_type": "code",
   "execution_count": 71,
   "id": "fa0d0384",
   "metadata": {},
   "outputs": [],
   "source": [
    "o2=person2(\"eerg\",\"efe\",45)"
   ]
  },
  {
   "cell_type": "code",
   "execution_count": 72,
   "id": "d225c23b",
   "metadata": {},
   "outputs": [
    {
     "name": "stdout",
     "output_type": "stream",
     "text": [
      "odd 0\n",
      "odd 2\n",
      "odd 4\n",
      "odd 6\n",
      "odd 8\n",
      "odd 10\n",
      "odd 12\n",
      "odd 14\n",
      "odd 16\n",
      "odd 18\n",
      "odd 20\n",
      "odd 22\n",
      "odd 24\n",
      "odd 26\n",
      "odd 28\n",
      "odd 30\n",
      "odd 32\n",
      "odd 34\n",
      "odd 36\n",
      "odd 38\n",
      "odd 40\n",
      "odd 42\n",
      "odd 44\n"
     ]
    }
   ],
   "source": [
    "o2.evenno()"
   ]
  },
  {
   "cell_type": "code",
   "execution_count": 73,
   "id": "dcfb6800",
   "metadata": {},
   "outputs": [],
   "source": [
    "class shubham:\n",
    "    def __init__(self,name,age,dob):\n",
    "        a.name=name\n",
    "        a.age=age\n",
    "        a.dob=dob\n",
    "    def test(self):\n",
    "        print(\"we dont talk anymore\")\n",
    "        "
   ]
  },
  {
   "cell_type": "code",
   "execution_count": 78,
   "id": "a7f527e1",
   "metadata": {},
   "outputs": [
    {
     "ename": "AttributeError",
     "evalue": "'str' object has no attribute 'name'",
     "output_type": "error",
     "traceback": [
      "\u001b[1;31m---------------------------------------------------------------------------\u001b[0m",
      "\u001b[1;31mAttributeError\u001b[0m                            Traceback (most recent call last)",
      "Cell \u001b[1;32mIn[78], line 1\u001b[0m\n\u001b[1;32m----> 1\u001b[0m o\u001b[38;5;241m=\u001b[39mshubham(shubham,\u001b[38;5;241m20\u001b[39m,\u001b[38;5;241m30\u001b[39m)\n",
      "Cell \u001b[1;32mIn[73], line 3\u001b[0m, in \u001b[0;36mshubham.__init__\u001b[1;34m(self, name, age, dob)\u001b[0m\n\u001b[0;32m      2\u001b[0m \u001b[38;5;28;01mdef\u001b[39;00m \u001b[38;5;21m__init__\u001b[39m(\u001b[38;5;28mself\u001b[39m,name,age,dob):\n\u001b[1;32m----> 3\u001b[0m     a\u001b[38;5;241m.\u001b[39mname\u001b[38;5;241m=\u001b[39mname\n\u001b[0;32m      4\u001b[0m     a\u001b[38;5;241m.\u001b[39mage\u001b[38;5;241m=\u001b[39mage\n\u001b[0;32m      5\u001b[0m     a\u001b[38;5;241m.\u001b[39mdob\u001b[38;5;241m=\u001b[39mdob\n",
      "\u001b[1;31mAttributeError\u001b[0m: 'str' object has no attribute 'name'"
     ]
    }
   ],
   "source": [
    "o=shubham(shubham,20,30)"
   ]
  },
  {
   "cell_type": "code",
   "execution_count": 2,
   "id": "8b21a3c7",
   "metadata": {},
   "outputs": [
    {
     "name": "stdout",
     "output_type": "stream",
     "text": [
      "git version 2.45.2.windows.1\n"
     ]
    }
   ],
   "source": [
    "! git -v"
   ]
  },
  {
   "cell_type": "code",
   "execution_count": 5,
   "id": "e0e60678",
   "metadata": {},
   "outputs": [
    {
     "name": "stderr",
     "output_type": "stream",
     "text": [
      "fatal: not a git repository (or any of the parent directories): .git\n"
     ]
    }
   ],
   "source": [
    "! git add ."
   ]
  },
  {
   "cell_type": "code",
   "execution_count": null,
   "id": "0a726c69",
   "metadata": {},
   "outputs": [],
   "source": [
    "! git commit -m\"\""
   ]
  },
  {
   "cell_type": "code",
   "execution_count": null,
   "id": "41cbd705",
   "metadata": {},
   "outputs": [],
   "source": []
  },
  {
   "cell_type": "code",
   "execution_count": null,
   "id": "882d990c",
   "metadata": {},
   "outputs": [],
   "source": []
  },
  {
   "cell_type": "code",
   "execution_count": null,
   "id": "d99c6c56",
   "metadata": {},
   "outputs": [],
   "source": []
  },
  {
   "cell_type": "code",
   "execution_count": null,
   "id": "8a760b45",
   "metadata": {},
   "outputs": [],
   "source": []
  },
  {
   "cell_type": "code",
   "execution_count": null,
   "id": "23390e92",
   "metadata": {},
   "outputs": [],
   "source": []
  }
 ],
 "metadata": {
  "kernelspec": {
   "display_name": "Python 3 (ipykernel)",
   "language": "python",
   "name": "python3"
  },
  "language_info": {
   "codemirror_mode": {
    "name": "ipython",
    "version": 3
   },
   "file_extension": ".py",
   "mimetype": "text/x-python",
   "name": "python",
   "nbconvert_exporter": "python",
   "pygments_lexer": "ipython3",
   "version": "3.11.5"
  }
 },
 "nbformat": 4,
 "nbformat_minor": 5
}
